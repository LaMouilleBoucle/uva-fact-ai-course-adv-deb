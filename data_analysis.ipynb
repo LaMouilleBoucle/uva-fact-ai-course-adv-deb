{
 "cells": [
  {
   "cell_type": "markdown",
   "metadata": {},
   "source": [
    "# DATA"
   ]
  },
  {
   "cell_type": "code",
   "execution_count": 74,
   "metadata": {},
   "outputs": [],
   "source": [
    "import json\n",
    "import numpy as np\n",
    "import matplotlib.pyplot as plt\n",
    "from collections import defaultdict\n",
    "import seaborn as sns\n",
    "import scipy  "
   ]
  },
  {
   "cell_type": "markdown",
   "metadata": {},
   "source": [
    "### Read the JSON datafiles"
   ]
  },
  {
   "cell_type": "code",
   "execution_count": 75,
   "metadata": {},
   "outputs": [],
   "source": [
    "# specify path to file for biased results \n",
    "path_bias = 'results/data_biased.json'\n",
    "\n",
    "# specify path to file for debiased results in case of one file\n",
    "path_debias = 'results/data_debias.json'\n",
    "\n",
    "# specify paths to files for debiased results in case of two separate files\n",
    "# set bool to True in order to use this\n",
    "two_files = True\n",
    "path1_debias = 'results/data_debias_first.json'\n",
    "path2_debias = 'results/data_debias_second.json'"
   ]
  },
  {
   "cell_type": "code",
   "execution_count": 76,
   "metadata": {},
   "outputs": [],
   "source": [
    "def read_json(path):\n",
    "    with open(path, 'r', encoding='utf8') as f:\n",
    "        json_dict = json.load(f)\n",
    "    return json_dict\n",
    "\n",
    "def concat_json(json1, json2): \n",
    "    json = defaultdict(lambda: defaultdict(list))\n",
    "    for setting in json1.keys(): \n",
    "        for key in json1[setting].keys():\n",
    "            json[setting][key] = json1[setting][key] + json2[setting][key]\n",
    "    return json"
   ]
  },
  {
   "cell_type": "code",
   "execution_count": 77,
   "metadata": {},
   "outputs": [],
   "source": [
    "# load data \n",
    "results_bias = read_json(path_bias)\n",
    "\n",
    "if two_files:\n",
    "    results_debias = concat_json(read_json(path1_debias), read_json(path2_debias))\n",
    "else: \n",
    "    read_json(path_debias)"
   ]
  },
  {
   "cell_type": "markdown",
   "metadata": {},
   "source": [
    "## Hyperparameter search\n",
    "Find best setting if the result file contains multiple hyperparameter settings"
   ]
  },
  {
   "cell_type": "code",
   "execution_count": 53,
   "metadata": {},
   "outputs": [],
   "source": [
    "def search_setting(results, debiased=True, tolerance=0.05): \n",
    "\n",
    "    if debiased:\n",
    "        print(\"\\n-------with debias-------\")\n",
    "    else: \n",
    "        print(\"\\n-------without debias-------\")\n",
    "\n",
    "    best_acc = (0, 0)\n",
    "    for setting in results.keys():\n",
    "        neg_fpr = (np.mean(results[setting]['neg_fpr']), np.std(results[setting]['neg_fpr']))\n",
    "        neg_fnr = (np.mean(results[setting]['neg_fnr']), np.std(results[setting]['neg_fnr']))\n",
    "        pos_fpr = (np.mean(results[setting]['pos_fpr']), np.std(results[setting]['neg_fnr']))\n",
    "        pos_fnr = (np.mean(results[setting]['pos_fnr']), np.std(results[setting]['neg_fnr']))\n",
    "        if debiased:\n",
    "            if np.abs(neg_fnr[0] - pos_fnr[0]) < tolerance and np.abs(neg_fpr[0] - pos_fpr[0]) < tolerance:\n",
    "                print('Setting {} -> Neg FPR: {:.5f} +- {:.5f}, Pos FPR: {:.5f} +- {:.5f}, Neg FNR: {:.5f} +- {:.5f}, Pos FNR: {:.5f} +- {:.5f}, pred acc: {:.5f} +-{:.5f}'.format(setting, neg_fpr[0], neg_fpr[1], pos_fpr[0], pos_fpr[1], neg_fnr[0], neg_fnr[1], pos_fnr[0],  pos_fnr[1], best_acc[0], best_acc[1]))\n",
    "            else:\n",
    "                continue\n",
    "\n",
    "        acc = (np.mean(results[setting]['predictor_acc']), np.std(results[setting]['predictor_acc']))\n",
    "        if acc[0] > best_acc[0]:\n",
    "            best_acc = acc\n",
    "            best_setting = setting\n",
    "\n",
    "\n",
    "    print(\"\\nBEST SETTING:\")\n",
    "    print('Setting {} -> Neg FPR: {:.5f} +- {:.5f}, Pos FPR: {:.5f} +- {:.5f}, Neg FNR: {:.5f} +- {:.5f}, Pos FNR: {:.5f} +- {:.5f}, pred acc: {:.5f} +-{:.5f}'.format(best_setting, neg_fpr[0], neg_fpr[1], pos_fpr[0], pos_fpr[1], neg_fnr[0], neg_fnr[1], pos_fnr[0],  pos_fnr[1], best_acc[0], best_acc[1]))\n",
    "    print()\n",
    "\n",
    "    return best_setting"
   ]
  },
  {
   "cell_type": "code",
   "execution_count": 54,
   "metadata": {},
   "outputs": [
    {
     "name": "stdout",
     "output_type": "stream",
     "text": [
      "\n",
      "-------without debias-------\n",
      "\n",
      "BEST SETTING:\n",
      "Setting (0.01, 0.01, 64) -> Neg FPR: 0.03912 +- 0.01512, Pos FPR: 0.12344 +- 0.08800, Neg FNR: 0.49305 +- 0.08800, Pos FNR: 0.41302 +- 0.08800, pred acc: 0.83868 +-0.00082\n",
      "\n",
      "\n",
      "-------with debias-------\n",
      "Setting (0.01, 0.001, 32) -> Neg FPR: 0.05763 +- 0.04737, Pos FPR: 0.08691 +- 0.32580, Neg FNR: 0.60169 +- 0.32580, Pos FNR: 0.63314 +- 0.32580, pred acc: 0.00000 +-0.00000\n",
      "Setting (0.01, 0.001, 128) -> Neg FPR: 0.07667 +- 0.06475, Pos FPR: 0.12580 +- 0.32449, Neg FNR: 0.51492 +- 0.32449, Pos FNR: 0.52736 +- 0.32449, pred acc: 0.79388 +-0.02570\n",
      "Setting (0.01, 0.01, 128) -> Neg FPR: 0.07626 +- 0.05858, Pos FPR: 0.10155 +- 0.32098, Neg FNR: 0.51644 +- 0.32098, Pos FNR: 0.56265 +- 0.32098, pred acc: 0.79437 +-0.02898\n",
      "Setting (0.01, 0.1, 128) -> Neg FPR: 0.03968 +- 0.04986, Pos FPR: 0.05988 +- 0.32924, Neg FNR: 0.73153 +- 0.32924, Pos FNR: 0.74450 +- 0.32924, pred acc: 0.79870 +-0.02581\n",
      "Setting (0.1, 0.0001, 64) -> Neg FPR: 0.00874 +- 0.01745, Pos FPR: 0.02230 +- 0.19069, Neg FNR: 0.90068 +- 0.19069, Pos FNR: 0.90003 +- 0.19069, pred acc: 0.79870 +-0.02581\n",
      "Setting (0.1, 0.0001, 128) -> Neg FPR: 0.05941 +- 0.07316, Pos FPR: 0.09499 +- 0.31848, Neg FNR: 0.69763 +- 0.31848, Pos FNR: 0.68845 +- 0.31848, pred acc: 0.79870 +-0.02581\n",
      "Setting (0.1, 0.001, 32) -> Neg FPR: 0.02405 +- 0.06199, Pos FPR: 0.02223 +- 0.24752, Neg FNR: 0.88441 +- 0.24752, Pos FNR: 0.90949 +- 0.24752, pred acc: 0.79870 +-0.02581\n",
      "Setting (0.1, 0.001, 128) -> Neg FPR: 0.06802 +- 0.06530, Pos FPR: 0.10719 +- 0.30905, Neg FNR: 0.62508 +- 0.30905, Pos FNR: 0.64484 +- 0.30905, pred acc: 0.79870 +-0.02581\n",
      "Setting (0.1, 0.01, 64) -> Neg FPR: 0.04575 +- 0.06906, Pos FPR: 0.05239 +- 0.31100, Neg FNR: 0.75508 +- 0.31100, Pos FNR: 0.78894 +- 0.31100, pred acc: 0.79870 +-0.02581\n",
      "Setting (0.1, 0.01, 128) -> Neg FPR: 0.04132 +- 0.05182, Pos FPR: 0.05072 +- 0.30069, Neg FNR: 0.70712 +- 0.30069, Pos FNR: 0.74760 +- 0.30069, pred acc: 0.79870 +-0.02581\n",
      "Setting (0.1, 0.1, 32) -> Neg FPR: 0.01434 +- 0.04303, Pos FPR: 0.02375 +- 0.20949, Neg FNR: 0.93017 +- 0.20949, Pos FNR: 0.93759 +- 0.20949, pred acc: 0.79870 +-0.02581\n",
      "Setting (0.1, 0.1, 64) -> Neg FPR: 0.03382 +- 0.07596, Pos FPR: 0.05047 +- 0.27409, Neg FNR: 0.82831 +- 0.27409, Pos FNR: 0.83090 +- 0.27409, pred acc: 0.79870 +-0.02581\n",
      "Setting (0.1, 0.1, 128) -> Neg FPR: 0.05612 +- 0.08257, Pos FPR: 0.07233 +- 0.33445, Neg FNR: 0.73339 +- 0.33445, Pos FNR: 0.76290 +- 0.33445, pred acc: 0.79870 +-0.02581\n",
      "Setting (0.1, 1, 32) -> Neg FPR: 0.00346 +- 0.00964, Pos FPR: 0.00700 +- 0.11283, Neg FNR: 0.95610 +- 0.11283, Pos FNR: 0.96127 +- 0.11283, pred acc: 0.79870 +-0.02581\n",
      "Setting (0.1, 1, 64) -> Neg FPR: 0.01966 +- 0.02331, Pos FPR: 0.03206 +- 0.21074, Neg FNR: 0.79983 +- 0.21074, Pos FNR: 0.83907 +- 0.21074, pred acc: 0.79870 +-0.02581\n",
      "Setting (0.1, 1, 128) -> Neg FPR: 0.00584 +- 0.01751, Pos FPR: 0.00909 +- 0.16373, Neg FNR: 0.94542 +- 0.16373, Pos FNR: 0.94877 +- 0.16373, pred acc: 0.79870 +-0.02581\n",
      "\n",
      "BEST SETTING:\n",
      "Setting (0.01, 0.01, 128) -> Neg FPR: 0.00584 +- 0.01751, Pos FPR: 0.00909 +- 0.16373, Neg FNR: 0.94542 +- 0.16373, Pos FNR: 0.94877 +- 0.16373, pred acc: 0.79870 +-0.02581\n",
      "\n"
     ]
    }
   ],
   "source": [
    "# run to obtain the best hyperparameter settings\n",
    "best_setting_biased = search_setting(results_bias, debiased=False)\n",
    "best_setting_debiased = search_setting(results_debias)"
   ]
  },
  {
   "cell_type": "markdown",
   "metadata": {},
   "source": [
    "## Data Analysis"
   ]
  },
  {
   "cell_type": "markdown",
   "metadata": {},
   "source": [
    "#### Input the settings you want to run the analysis for"
   ]
  },
  {
   "cell_type": "code",
   "execution_count": 69,
   "metadata": {},
   "outputs": [],
   "source": [
    "setting_biased  = \"(0.01, 0.01, 64)\"\n",
    "setting_debiased = \"(0.01, 0.01, 128)\""
   ]
  },
  {
   "cell_type": "markdown",
   "metadata": {},
   "source": [
    "### Plot the results "
   ]
  },
  {
   "cell_type": "code",
   "execution_count": 70,
   "metadata": {},
   "outputs": [],
   "source": [
    "def plot_results(results_bias, results_debias):\n",
    "\n",
    "    plt.style.use('seaborn-whitegrid')\n",
    "\n",
    "    new_style = {'grid': False}\n",
    "    plt.rc('axes', **new_style)\n",
    "\n",
    "\n",
    "    bar_width = 0.25\n",
    "    r1 = [0, 0.7]\n",
    "    r2 = [x + bar_width for x in r1]\n",
    "\n",
    "    fig, axs = plt.subplots(1, 2)\n",
    "\n",
    "\n",
    "    # plot results FNR\n",
    "    women_mean = (np.mean(results_bias[\"neg_fnr\"]), np.mean(results_debias[\"neg_fnr\"]))\n",
    "    men_mean = (np.mean(results_bias[\"pos_fnr\"]), np.mean(results_debias[\"pos_fnr\"]))\n",
    "    women_std = (np.std(results_bias[\"neg_fnr\"]), np.std(results_debias[\"neg_fnr\"]))\n",
    "    men_std = (np.std(results_bias[\"pos_fnr\"]), np.std(results_debias[\"pos_fnr\"]))\n",
    "\n",
    "    axs[0].bar(r1, women_mean, color='#FF00B2', width=bar_width, yerr=women_std, error_kw=dict(lw=0.7, capsize=4, capthick=0.7, ecolor=\"#505050\"), edgecolor='white', label='Women')\n",
    "    axs[0].bar(r2, men_mean, color='#0097FF', width=bar_width, yerr=men_std, error_kw=dict(lw=0.7, capsize=4, capthick=0.7, ecolor=\"#505050\"), edgecolor='white', label='Men')\n",
    "\n",
    "    # plot FNR results Zhang et al \n",
    "    axs[0].plot([r1[0]-0.5*bar_width +0.005, r1[0]+0.5*bar_width], [0.4492, 0.4492], \"k:\", lw=2, label=\"Zhang et al. (2018)\")\n",
    "    axs[0].plot([r1[1]-0.5*bar_width +0.005, r1[1]+0.5*bar_width], [0.4458, 0.4458], \"k:\", lw=2)\n",
    "    axs[0].plot([r2[0]-0.5*bar_width +0.005, r2[0]+0.5*bar_width], [0.3667, 0.3667], \"k:\", lw=2)\n",
    "    axs[0].plot([r2[1]-0.5*bar_width +0.005, r2[1]+0.5*bar_width], [0.4349, 0.4349], \"k:\", lw=2)\n",
    "\n",
    "    axs[0].set_xlabel('FNR', fontsize=11)\n",
    "    axs[0].set_xticks([r + bar_width/2 for r in r1])\n",
    "    axs[0].set_xticklabels(['Without debias', 'With debias'])\n",
    "    # plt.yticks(np.arange(0, 0.7, 0.1))\n",
    "    axs[0].set_ylabel('Rate')\n",
    "    axs[0].legend(loc=\"upper left\")\n",
    "\n",
    "\n",
    "    # plot results FPR\n",
    "    women_mean = (np.mean(results_bias[\"neg_fpr\"]), np.mean(results_debias[\"neg_fpr\"]))\n",
    "    men_mean = (np.mean(results_bias[\"pos_fpr\"]), np.mean(results_debias[\"pos_fpr\"]))\n",
    "    women_std = (np.std(results_bias[\"neg_fpr\"]), np.std(results_debias[\"neg_fpr\"]))\n",
    "    men_std = (np.std(results_bias[\"pos_fpr\"]), np.std(results_debias[\"pos_fpr\"]))\n",
    "\n",
    "    # plot FPR results Zhang et al \n",
    "    axs[1].bar(r1, women_mean, color='#FF00B2', width=bar_width, yerr=women_std, error_kw=dict(lw=0.7, capsize=4, capthick=0.7, ecolor=\"#505050\"), edgecolor='white', label='Women')\n",
    "    axs[1].bar(r2, men_mean, color='#0097FF', width=bar_width, yerr=men_std, error_kw=dict(lw=0.7, capsize=4, capthick=0.7, ecolor=\"#505050\"), edgecolor='white', label='Men')\n",
    "    axs[1].plot([r1[0]-0.5*bar_width +0.005, r1[0]+0.5*bar_width], [0.0248, 0.0248],\"k:\", lw=2, label=\"Zhang et al.\")\n",
    "    axs[1].plot([r1[1]-0.5*bar_width +0.005, r1[1]+0.5*bar_width], [0.0647, 0.0647], \"k:\", lw=2)\n",
    "    axs[1].plot([r2[0]-0.5*bar_width +0.005, r2[0]+0.5*bar_width], [0.0917, 0.0917], \"k:\", lw=2)\n",
    "    axs[1].plot([r2[1]-0.5*bar_width +0.005, r2[1]+0.5*bar_width], [0.0701, 0.0701], \"k:\", lw=2)\n",
    "\n",
    "    axs[1].set_xlabel('FPR', fontsize=11)\n",
    "    axs[1].set_xticks([r + bar_width/2 for r in r1])\n",
    "    axs[1].set_xticklabels(['Without debias', 'With debias'])\t\n",
    "\n",
    "    plt.tight_layout()\n",
    "    plt.show()"
   ]
  },
  {
   "cell_type": "code",
   "execution_count": 71,
   "metadata": {},
   "outputs": [
    {
     "data": {
      "image/png": "[encoded data removed]",
      "text/plain": [
       "<Figure size 432x288 with 2 Axes>"
      ]
     },
     "metadata": {},
     "output_type": "display_data"
    }
   ],
   "source": [
    "plot_results(results_bias[setting_biased], results_debias[setting_debiased])"
   ]
  },
  {
   "cell_type": "markdown",
   "metadata": {},
   "source": [
    "### Perform statistical analysis"
   ]
  },
  {
   "cell_type": "code",
   "execution_count": 72,
   "metadata": {},
   "outputs": [],
   "source": [
    "def statistical_analysis(results_bias, results_debias, alpha=0.05):\n",
    "\n",
    "    results_bias.pop('neg_confusion_mat', None)\n",
    "    results_bias.pop('pos_confusion_mat', None)\n",
    "    results_debias.pop('neg_confusion_mat', None)\n",
    "    results_debias.pop('pos_confusion_mat', None)\n",
    "\n",
    "\n",
    "    # test if assumption of normally distributed dataset is voilated\n",
    "    print(\"\\nTest assumption of normally distribution\")\n",
    "    normal_distr = True\n",
    "    for key in results_bias.keys(): \n",
    "        for i, dataset in enumerate([results_bias, results_debias]):\n",
    "\n",
    "            data_name = \"biased\" if i == 0  else \"debiased\"\n",
    "            _, p_value_s = scipy.stats.shapiro(dataset[key])\n",
    "            print(\"%s shapiro %s, %.5f\" %(data_name, key, p_value_s))\n",
    "            # plt.hist(dataset[key])\n",
    "            # plt.show()\n",
    "\n",
    "            if p_value_s < alpha:\n",
    "                normal_distr = False\n",
    "\n",
    "    if not normal_distr:\n",
    "        print(\"Assumption normal distribution is violated\")\n",
    "\n",
    "    compare = [(\"neg_fnr\", \"pos_fnr\"), (\"neg_fpr\", \"pos_fpr\")] \n",
    "\n",
    "    # test if assumption of equal variance is violated\n",
    "    print(\"\\nTest assumption of equal variance\")\n",
    "    equal_var = True\n",
    "    for c1, c2 in compare: \n",
    "        for i, dataset in enumerate([results_bias, results_debias]):\n",
    "\n",
    "            data_name = \"biased\" if i == 0  else \"debiased\"\n",
    "\n",
    "            __, p_value_l = scipy.stats.levene(results_bias[c1], results_bias[c2])\n",
    "            print(\"%s levene %s vs. %s: %.5f\" %(data_name, c1, c2, p_value_l))\n",
    "\n",
    "            if p_value_l < alpha: \n",
    "                equal_var = False\n",
    "\n",
    "    if not equal_var: \n",
    "        print(\"Assumption equal variance is violated\")\n",
    "\n",
    "\n",
    "    # pick appropriate statiscal test\n",
    "    if not normal_distr or equal_var:\n",
    "        stat_test = scipy.stats.mannwhitneyu\n",
    "        print(\"\\nPerform Mann-Whitney U test\")\n",
    "    else: \n",
    "        stat_test = scipy.stats.ttest_ind\n",
    "        print(\"\\nPerform two-sided t-test\")\n",
    "\n",
    "    # execute statistical test \n",
    "    for c1, c2 in compare: \n",
    "        for i, dataset in enumerate([results_bias, results_debias]):\n",
    "            data_name = \"biased\" if i == 0  else \"debiased\"\n",
    "            __, p_value = stat_test(dataset[c1], dataset[c2])\n",
    "\n",
    "            print(\"%s: %s vs. %s: %.10f\" %(data_name, c1, c2, p_value))\n",
    "    print(\"\\n\")\n"
   ]
  },
  {
   "cell_type": "code",
   "execution_count": 73,
   "metadata": {},
   "outputs": [
    {
     "name": "stdout",
     "output_type": "stream",
     "text": [
      "\n",
      "Test assumption of normally distribution\n",
      "biased shapiro neg_fpr, 0.00367\n",
      "debiased shapiro neg_fpr, 0.33088\n",
      "biased shapiro neg_fnr, 0.02139\n",
      "debiased shapiro neg_fnr, 0.00193\n",
      "biased shapiro pos_fpr, 0.69154\n",
      "debiased shapiro pos_fpr, 0.09190\n",
      "biased shapiro pos_fnr, 0.49491\n",
      "debiased shapiro pos_fnr, 0.00160\n",
      "biased shapiro predictor_acc, 0.21593\n",
      "debiased shapiro predictor_acc, 0.04127\n",
      "Assumption normal distribution is violated\n",
      "\n",
      "Test assumption of equal variance\n",
      "biased levene neg_fnr vs. pos_fnr: 0.72183\n",
      "debiased levene neg_fnr vs. pos_fnr: 0.72183\n",
      "biased levene neg_fpr vs. pos_fpr: 0.04770\n",
      "debiased levene neg_fpr vs. pos_fpr: 0.04770\n",
      "Assumption equal variance is violated\n",
      "\n",
      "Perform Mann-Whitney U test\n",
      "biased: neg_fnr vs. pos_fnr: 0.0000903174\n",
      "debiased: neg_fnr vs. pos_fnr: 0.1789716092\n",
      "biased: neg_fpr vs. pos_fpr: 0.0000898113\n",
      "debiased: neg_fpr vs. pos_fpr: 0.1417462899\n",
      "\n",
      "\n"
     ]
    }
   ],
   "source": [
    "statistical_analysis(results_bias[setting_biased], results_debias[setting_debiased])"
   ]
  }
 ],
 "metadata": {
  "kernelspec": {
   "display_name": "Python 3",
   "language": "python",
   "name": "python3"
  },
  "language_info": {
   "codemirror_mode": {
    "name": "ipython",
    "version": 3
   },
   "file_extension": ".py",
   "mimetype": "text/x-python",
   "name": "python",
   "nbconvert_exporter": "python",
   "pygments_lexer": "ipython3",
   "version": "3.7.3"
  }
 },
 "nbformat": 4,
 "nbformat_minor": 2
}
