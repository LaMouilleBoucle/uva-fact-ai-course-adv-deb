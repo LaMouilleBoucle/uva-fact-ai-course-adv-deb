{
 "cells": [
  {
   "cell_type": "code",
   "execution_count": 1,
   "metadata": {},
   "outputs": [],
   "source": [
    "import torch\n",
    "import datasets\n",
    "import os\n",
    "from utils import plot_adult_results\n",
    "from sklearn.metrics import accuracy_score, mean_squared_error\n",
    "from torch import nn\n",
    "from main import test \n",
    "from model import Predictor, Adversary\n",
    "import seaborn as sns\n",
    "import matplotlib.pyplot as plt   "
   ]
  },
  {
   "cell_type": "code",
   "execution_count": 2,
   "metadata": {},
   "outputs": [],
   "source": [
    "ROOT_DIR = (os.path.abspath(''))\n",
    "MODEL_DIR = os.path.join(ROOT_DIR, \"saved_models\")\n",
    "\n",
    "DEVICE = torch.device(\"cuda\" if torch.cuda.is_available() else \"cpu\")"
   ]
  },
  {
   "cell_type": "markdown",
   "metadata": {},
   "source": [
    "# Results UCI Adult Dataset"
   ]
  },
  {
   "cell_type": "markdown",
   "metadata": {},
   "source": [
    "###### Note that in order to obtain the results we report in our paper, we trained 30 different biased predictors (seed 1 - 30) and 30 different debiased predictors (seed 1 - 30)  and averaged the results of those models. <u>In this notebook we will only show the result for a single model trained with the seed set to 1.</u> Results of our report can be reproduced by training with the given seeds following the instructions in the README. \n",
    "\n",
    "The models where trained with the following settings: <br>\n",
    "- Biased\n",
    "> Epochs: 10 <br>\n",
    "> Batch size: 128 <br>\n",
    "> Predictor learning rate: 0.1 <br>\n",
    "\n",
    "\n",
    "- Debiased (Refined implementation)\n",
    "> Epochs: 15 <br>\n",
    "> Batch size: 128 <br> \n",
    "> Predictor learning rate: 0.001 <br> \n",
    "> Adversary learning rate: 0.001 <br>\n",
    "> Alpha: 0.3 <br> \n",
    "> Exponential decayer gamma: 0.96 (decays every 1000 training steps) <br>"
   ]
  },
  {
   "cell_type": "markdown",
   "metadata": {},
   "source": [
    "### Load dataset "
   ]
  },
  {
   "cell_type": "code",
   "execution_count": 3,
   "metadata": {},
   "outputs": [
    {
     "name": "stdout",
     "output_type": "stream",
     "text": [
      "sex      income\n",
      " Female   <=50K     9592\n",
      "          >50K      1179\n",
      " Male     <=50K    15128\n",
      "          >50K      6662\n",
      "Name: income, dtype: int64\n",
      "sex      income \n",
      " Female   <=50K.    4831\n",
      "          >50K.      590\n",
      " Male     <=50K.    7604\n",
      "          >50K.     3256\n",
      "Name: income, dtype: int64\n"
     ]
    }
   ],
   "source": [
    "__, __, dataloader_test = datasets.utils.get_dataloaders(batch_size=128, dataset='adult')"
   ]
  },
  {
   "cell_type": "markdown",
   "metadata": {},
   "source": [
    "### Load models \n"
   ]
  },
  {
   "cell_type": "markdown",
   "metadata": {},
   "source": [
    "Filenames of the saved models"
   ]
  },
  {
   "cell_type": "code",
   "execution_count": 4,
   "metadata": {},
   "outputs": [],
   "source": [
    "pred_biased_filename = \"pred_debiased_False_adult_seed_1\" \n",
    "pred_debiased_filename = \"pred_debiased_True_adult_seed_1\""
   ]
  },
  {
   "cell_type": "code",
   "execution_count": 5,
   "metadata": {},
   "outputs": [],
   "source": [
    "input_dim = next(iter(dataloader_test))[0].shape[1]\n",
    "\n",
    "# Load the biased model \n",
    "predictor_biased = Predictor(input_dim).to(DEVICE)\n",
    "predictor_biased.load_state_dict(torch.load(os.path.join(MODEL_DIR, pred_biased_filename), map_location=DEVICE))\n",
    "predictor_biased.eval();\n",
    "\n",
    "# Load the debiased model\n",
    "predictor_debiased = Predictor(input_dim).to(DEVICE)\n",
    "predictor_debiased.load_state_dict(torch.load(os.path.join(MODEL_DIR, pred_debiased_filename), map_location=DEVICE))\n",
    "predictor_debiased.eval();"
   ]
  },
  {
   "cell_type": "markdown",
   "metadata": {},
   "source": [
    "### Results on test set"
   ]
  },
  {
   "cell_type": "code",
   "execution_count": 6,
   "metadata": {},
   "outputs": [],
   "source": [
    "def plot_confusion_matrix(confusion_matrix, plot_title=\"\", ax=None):\n",
    "    sns.heatmap(confusion_matrix, annot=True, fmt='g', cbar=False, cmap=\"Blues\", ax = ax)\n",
    "    ax.set_title(plot_title); \n",
    "    ax.xaxis.set_ticklabels(['Pred 0', 'Pred 1']); \n",
    "    ax.yaxis.set_ticklabels(['True 0', 'True 1']);\n",
    "    \n",
    "def plot_confusion_matrices(confusion_matrix_male, confusion_matrix_female, plot_title=\"\"):\n",
    "    fig, axs = plt.subplots(1, 2, figsize=(7,2))\n",
    "    plot_confusion_matrix(confusion_matrix_male, plot_title=\"Male\", ax=axs[0])\n",
    "    plot_confusion_matrix(confusion_matrix_female, plot_title=\"Female\", ax=axs[1])\n",
    "    fig.suptitle(plot_title, fontsize=15)\n",
    "    plt.tight_layout()\n",
    "    plt.show()\n",
    "    \n",
    "def print_results(accuracy, mutual_info, neg_fpr, pos_fpr, neg_fnr, pos_fnr, model_type=\"\"):\n",
    "    print(\"-------------------------------------------------------------------\")\n",
    "    print(\"RESULTS %s \\n\"%(model_type.upper()))\n",
    "    print(\"Test accuracy predictor: {:.5f}\".format(accuracy))\n",
    "    print(\"Mutual information I(Z; Y_hat | Y): {:.5f}\\n\".format(mutual_info))\n",
    "    print(\"False Postive Rates (FPR):\")\n",
    "    print(\"      Female: {:.5f} || Male: {:.5f}\".format(neg_fpr, pos_fpr))\n",
    "    print(\"False Negative Rates (FNR):\")\n",
    "    print(\"      Female: {:.5f} || Male: {:.5f}\".format(neg_fnr, pos_fnr))\n",
    "    print()\n",
    "    print(\"Absolute difference FPR between Female vs. Male: {:.5f}\".format(abs(neg_fpr - pos_fpr)))\n",
    "    print(\"Absolute difference FNR between Female vs. Male: {:.5f}\".format(abs(neg_fnr - pos_fnr)))\n",
    "    print(\"-------------------------------------------------------------------\")"
   ]
  },
  {
   "cell_type": "code",
   "execution_count": 7,
   "metadata": {},
   "outputs": [],
   "source": [
    "# Results biased predictor\n",
    "accuracy_b, neg_confusion_mat_b, neg_fpr_b, neg_fnr_b, pos_confusion_mat_b, pos_fpr_b, pos_fnr_b, mutual_info_b = test(dataloader_test, \n",
    "                                                                                                           predictor = predictor_biased, \n",
    "                                                                                                           adversary = None, \n",
    "                                                                                                           criterion = nn.BCELoss(), \n",
    "                                                                                                           metric = accuracy_score, \n",
    "                                                                                                           device = DEVICE, \n",
    "                                                                                                           debias = False, \n",
    "                                                                                                           dataset = 'adult', \n",
    "                                                                                                           log = False)\n",
    "\n",
    "# Results debiased predictor \n",
    "accuracy_db, neg_confusion_mat_db, neg_fpr_db, neg_fnr_db, pos_confusion_mat_db, pos_fpr_db, pos_fnr_db, mutual_info_db = test(dataloader_test, \n",
    "                                                                                                                           predictor = predictor_debiased, \n",
    "                                                                                                                           adversary = None, \n",
    "                                                                                                                           criterion = nn.BCELoss(), \n",
    "                                                                                                                           metric = accuracy_score, \n",
    "                                                                                                                           device = DEVICE, \n",
    "                                                                                                                           debias = True, \n",
    "                                                                                                                           dataset = 'adult', \n",
    "                                                                                                                           log = False)"
   ]
  },
  {
   "cell_type": "code",
   "execution_count": 8,
   "metadata": {},
   "outputs": [
    {
     "data": {
      "image/png": "[encoded data removed]",
      "text/plain": [
       "<Figure size 504x144 with 2 Axes>"
      ]
     },
     "metadata": {
      "needs_background": "light"
     },
     "output_type": "display_data"
    },
    {
     "data": {
      "image/png": "[encoded data removed]",
      "text/plain": [
       "<Figure size 504x144 with 2 Axes>"
      ]
     },
     "metadata": {
      "needs_background": "light"
     },
     "output_type": "display_data"
    }
   ],
   "source": [
    "plot_confusion_matrices(pos_confusion_mat_b, neg_confusion_mat_b, plot_title=\"Biased\")\n",
    "plot_confusion_matrices(pos_confusion_mat_db, neg_confusion_mat_db, plot_title=\"Debiased\")"
   ]
  },
  {
   "cell_type": "code",
   "execution_count": 9,
   "metadata": {},
   "outputs": [
    {
     "name": "stdout",
     "output_type": "stream",
     "text": [
      "-------------------------------------------------------------------\n",
      "RESULTS BIASED \n",
      "\n",
      "Test accuracy predictor: 0.85184\n",
      "Mutual information I(Z; Y_hat | Y): 0.01063\n",
      "\n",
      "False Postive Rates (FPR):\n",
      "      Female: 0.03586 || Male: 0.10913\n",
      "False Negative Rates (FNR):\n",
      "      Female: 0.38826 || Male: 0.36438\n",
      "\n",
      "Absolute difference FPR between Female vs. Male: 0.07326\n",
      "Absolute difference FNR between Female vs. Male: 0.02387\n",
      "-------------------------------------------------------------------\n",
      "-------------------------------------------------------------------\n",
      "RESULTS DEBIASED \n",
      "\n",
      "Test accuracy predictor: 0.84440\n",
      "Mutual information I(Z; Y_hat | Y): 0.00381\n",
      "\n",
      "False Postive Rates (FPR):\n",
      "      Female: 0.04203 || Male: 0.08291\n",
      "False Negative Rates (FNR):\n",
      "      Female: 0.41856 || Male: 0.44829\n",
      "\n",
      "Absolute difference FPR between Female vs. Male: 0.04088\n",
      "Absolute difference FNR between Female vs. Male: 0.02973\n",
      "-------------------------------------------------------------------\n"
     ]
    }
   ],
   "source": [
    "print_results(accuracy_b, mutual_info_b, neg_fpr_b, pos_fpr_b, neg_fnr_b, pos_fnr_b, model_type=\"Biased\")\n",
    "print_results(accuracy_db, mutual_info_db, neg_fpr_db, pos_fpr_db, neg_fnr_db, pos_fnr_db, model_type=\"Debiased\")"
   ]
  },
  {
   "cell_type": "code",
   "execution_count": 10,
   "metadata": {},
   "outputs": [
    {
     "data": {
      "image/png": "[encoded data removed]",
      "text/plain": [
       "<Figure size 504x288 with 2 Axes>"
      ]
     },
     "metadata": {},
     "output_type": "display_data"
    }
   ],
   "source": [
    "plot_adult_results([neg_fnr_b], [pos_fnr_b], [neg_fpr_b], [pos_fpr_b], \n",
    "                   [neg_fnr_db], [pos_fnr_db], [neg_fpr_db], [pos_fpr_db])"
   ]
  },
  {
   "cell_type": "markdown",
   "metadata": {},
   "source": [
    "# Results UCI Communities and Crime Dataset"
   ]
  },
  {
   "cell_type": "markdown",
   "metadata": {},
   "source": [
    "###### Note that in order to obtain the results we report in our paper, we trained 30 different biased predictors (seed 1 - 30) and 30 different debiased predictors (seed 1 - 30)  and averaged the results of those models. <u>In this notebook we will only show the result for a single model trained with the seed set to 1.</u> Results of our report can be reproduced by training with the given seeds following the instructions in the README. \n",
    "\n",
    "The models where trained with the following settings: <br>\n",
    "- Biased\n",
    "> Epochs: 50 <br>\n",
    "> Batch size: 32 <br>\n",
    "> Predictor learning rate: 0.001 <br>\n",
    "\n",
    "\n",
    "- Debiased\n",
    "> Epochs: 210 <br>\n",
    "> Batch size: 64 <br> \n",
    "> Predictor learning rate: 0.002 <br> \n",
    "> Adversary learning rate: 0.0005 <br>\n",
    "> Alpha: 1.0 <br> \n",
    "> Exponential decayer gamma: 0.96 (decays every 1000 training steps) <br>"
   ]
  },
  {
   "cell_type": "markdown",
   "metadata": {},
   "source": [
    "### Load dataset"
   ]
  },
  {
   "cell_type": "code",
   "execution_count": null,
   "metadata": {},
   "outputs": [],
   "source": [
    "__, __, dataloader_test = datasets.utils.get_dataloaders(batch_size=128, dataset='crime')"
   ]
  },
  {
   "cell_type": "markdown",
   "metadata": {},
   "source": [
    "### Load models"
   ]
  },
  {
   "cell_type": "markdown",
   "metadata": {},
   "source": [
    "Filenames of the saved models: "
   ]
  },
  {
   "cell_type": "code",
   "execution_count": null,
   "metadata": {},
   "outputs": [],
   "source": [
    "pred_biased_filename = \"pred_debiased_False_crime_seed_1\" \n",
    "pred_debiased_filename = \"pred_debiased_True_crime_seed_1\""
   ]
  },
  {
   "cell_type": "code",
   "execution_count": null,
   "metadata": {},
   "outputs": [],
   "source": [
    "input_dim = next(iter(dataloader_test))[0].shape[1]\n",
    "\n",
    "# Load the biased model \n",
    "predictor_biased = Predictor(input_dim).to(DEVICE)\n",
    "predictor_biased.load_state_dict(torch.load(os.path.join(MODEL_DIR, pred_biased_filename), map_location=DEVICE))\n",
    "predictor_biased.eval();\n",
    "\n",
    "# Load the debiased model\n",
    "predictor_debiased = Predictor(input_dim).to(DEVICE)\n",
    "predictor_debiased.load_state_dict(torch.load(os.path.join(MODEL_DIR, pred_debiased_filename), map_location=DEVICE))\n",
    "predictor_debiased.eval();"
   ]
  },
  {
   "cell_type": "markdown",
   "metadata": {},
   "source": [
    "### Results on test set"
   ]
  },
  {
   "cell_type": "code",
   "execution_count": null,
   "metadata": {},
   "outputs": [],
   "source": [
    "# Results biased predictor\n",
    "MSE_b = test(dataloader_test, \n",
    "            predictor = predictor_biased, \n",
    "            adversary = None, \n",
    "            criterion = nn.MSELoss(), \n",
    "            metric = mean_squared_error, \n",
    "            device = DEVICE, \n",
    "            debias = False, \n",
    "            dataset = 'crime', \n",
    "            log = False)\n",
    "\n",
    "# Results debiased predictor \n",
    "MSE_db = test(dataloader_test, \n",
    "            predictor = predictor_debiased, \n",
    "            adversary = None, \n",
    "            criterion = nn.MSELoss(), \n",
    "            metric = mean_squared_error, \n",
    "            device = DEVICE, \n",
    "            debias = True, \n",
    "            dataset = 'crime', \n",
    "            log = False)"
   ]
  },
  {
   "cell_type": "code",
   "execution_count": null,
   "metadata": {},
   "outputs": [],
   "source": [
    "print(\"Biased predictor mean squared error (MSE): {:.5f}\".format(MSE_b))\n",
    "print(\"Debiased predictor mean squared error (MSE): {:.5f}\".format(MSE_db))"
   ]
  },
  {
   "cell_type": "markdown",
   "metadata": {},
   "source": [
    "# Results UTKFace Dataset"
   ]
  },
  {
   "cell_type": "markdown",
   "metadata": {},
   "source": [
    "### !! THIS TEXT NEEDS TO BE UPDATED !! \n",
    "###### Note that in order to obtain the results we report in our paper, we trained .... different biased predictors (INSERT SEEDS HERE) and 30 different debiased predictors (INSERT SEEDS HERE)  and averaged the results of those models. <u>In this notebook we will only show the result for a single model trained with the seed set to 1.</u> Results of our report can easily be reproduced by training with the given seeds following the instructions in the README. \n",
    "\n",
    "The models where trained with the following settings: <br>\n",
    "- Biased\n",
    "> Epochs:  <br>\n",
    "> Batch size:  <br>\n",
    "> Predictor learning rate:  <br>\n",
    "\n",
    "\n",
    "- Debiased\n",
    "> Epochs:  <br>\n",
    "> Batch size:  <br> \n",
    "> Predictor learning rate:  <br> \n",
    "> Adversary learning rate:  <br>\n",
    "> Alpha:  <br> \n",
    "> Exponential decayer gamma: ... (decays every .... training steps) <br>"
   ]
  },
  {
   "cell_type": "markdown",
   "metadata": {},
   "source": [
    "### Load dataset"
   ]
  },
  {
   "cell_type": "markdown",
   "metadata": {},
   "source": [
    "#### INSTRUCTIONS TO DOWNLOAD THE DATA HERE"
   ]
  },
  {
   "cell_type": "code",
   "execution_count": null,
   "metadata": {},
   "outputs": [],
   "source": [
    "__, __, dataloader_test = datasets.utils.get_dataloaders(batch_size=128, dataset='images')"
   ]
  },
  {
   "cell_type": "markdown",
   "metadata": {},
   "source": [
    "### Load models"
   ]
  },
  {
   "cell_type": "markdown",
   "metadata": {},
   "source": [
    "Filenames of the saved models:"
   ]
  },
  {
   "cell_type": "code",
   "execution_count": null,
   "metadata": {},
   "outputs": [],
   "source": [
    "pred_biased_filename = \"pred_debiased_False_images_seed_None\" ##### CHANGE FILENAMES\n",
    "pred_debiased_filename = \"pred_debiased_True_images_seed_None\""
   ]
  },
  {
   "cell_type": "code",
   "execution_count": null,
   "metadata": {},
   "outputs": [],
   "source": [
    "input_dim = next(iter(dataloader_test))[0].shape[1]\n",
    "\n",
    "# Load the biased model \n",
    "predictor_biased = Predictor(input_dim).to(DEVICE)\n",
    "predictor_biased.load_state_dict(torch.load(os.path.join(MODEL_DIR, pred_biased_filename), map_location=DEVICE))\n",
    "predictor_biased.eval();\n",
    "\n",
    "# Load the debiased model\n",
    "predictor_debiased = Predictor(input_dim).to(DEVICE)\n",
    "predictor_debiased.load_state_dict(torch.load(os.path.join(MODEL_DIR, pred_debiased_filename), map_location=DEVICE))\n",
    "predictor_debiased.eval();"
   ]
  },
  {
   "cell_type": "markdown",
   "metadata": {},
   "source": [
    "### Results on the test set"
   ]
  },
  {
   "cell_type": "code",
   "execution_count": null,
   "metadata": {},
   "outputs": [],
   "source": [
    "# Results biased predictor\n",
    "accuracy_b, neg_confusion_mat_b, neg_fpr_b, neg_fnr_b, pos_confusion_mat_b, pos_fpr_b, pos_fnr_b, mutual_info_b = test(dataloader_test, \n",
    "                                                                                                           predictor = predictor_biased, \n",
    "                                                                                                           adversary = None, \n",
    "                                                                                                           criterion = nn.BCELoss(), \n",
    "                                                                                                           metric = accuracy_score, \n",
    "                                                                                                           device = DEVICE, \n",
    "                                                                                                           debias = False, \n",
    "                                                                                                           dataset = 'images', \n",
    "                                                                                                           log = False)\n",
    "                                                                                                        \n",
    "\n",
    "# Results debiased predictor \n",
    "accuracy_db, neg_confusion_mat_db, neg_fpr_db, neg_fnr_db, pos_confusion_mat_db, pos_fpr_db, pos_fnr_db, mutual_info_db = test(dataloader_test, \n",
    "                                                                                                                           predictor = predictor_debiased, \n",
    "                                                                                                                           adversary = None, \n",
    "                                                                                                                           criterion = nn.BCELoss(), \n",
    "                                                                                                                           metric = accuracy_score, \n",
    "                                                                                                                           device = DEVICE, \n",
    "                                                                                                                           debias = True, \n",
    "                                                                                                                           dataset = 'images', \n",
    "                                                                                                                           log = False)"
   ]
  },
  {
   "cell_type": "code",
   "execution_count": null,
   "metadata": {},
   "outputs": [],
   "source": []
  },
  {
   "cell_type": "code",
   "execution_count": null,
   "metadata": {},
   "outputs": [],
   "source": []
  }
 ],
 "metadata": {
  "kernelspec": {
   "display_name": "Python 3",
   "language": "python",
   "name": "python3"
  },
  "language_info": {
   "codemirror_mode": {
    "name": "ipython",
    "version": 3
   },
   "file_extension": ".py",
   "mimetype": "text/x-python",
   "name": "python",
   "nbconvert_exporter": "python",
   "pygments_lexer": "ipython3",
   "version": "3.7.3"
  }
 },
 "nbformat": 4,
 "nbformat_minor": 2
}
